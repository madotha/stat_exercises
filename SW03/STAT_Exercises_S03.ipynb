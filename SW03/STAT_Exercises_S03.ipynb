{
 "cells": [
  {
   "cell_type": "markdown",
   "metadata": {},
   "source": [
    "# Aufgabenserie 03\n",
    " \n",
    "## Aufgabe 3.1\n",
    "\n",
    "Die monatlichen Aufwendungen X [CHF] für den Wasserverbrauch eines 2-Personenhaushalts\n",
    "seien durch eine Zufallsvariable mit der folgenden Wahrscheinlichkeitsdichtefunktion\n",
    "gegeben:\n",
    "\n",
    "$$f(x)=\\left\\{\n",
    "    \\begin{matrix}\n",
    "    cx(15-\\frac{x}{4})\\ && \\text{falls}\\ 0\\leq x\\leq 60 \\\\\n",
    "    0 && \\text{sonst}\n",
    "    \\end{matrix}\n",
    "\\right. $$\n",
    "\n",
    "a) Welchen Wert muss $c$ annehmen?"
   ]
  },
  {
   "cell_type": "markdown",
   "metadata": {},
   "source": [
    "<img src=\"stat_3.1_weg.jpg\" width=\"400\">"
   ]
  },
  {
   "cell_type": "markdown",
   "metadata": {},
   "source": [
    "Demnach ist $c = \\frac{1}{9000}$"
   ]
  },
  {
   "cell_type": "markdown",
   "metadata": {},
   "source": [
    "b) Geben Sie die Verteilungsfunktion $F$ der Zufallsvariablen $X$ an."
   ]
  },
  {
   "cell_type": "markdown",
   "metadata": {},
   "source": [
    "<img src=\"stat_3.1b.jpeg\" width=\"400\">"
   ]
  },
  {
   "cell_type": "code",
   "execution_count": null,
   "metadata": {},
   "outputs": [],
   "source": []
  }
 ],
 "metadata": {
  "kernelspec": {
   "display_name": "Python 3",
   "language": "python",
   "name": "python3"
  },
  "language_info": {
   "codemirror_mode": {
    "name": "ipython",
    "version": 3
   },
   "file_extension": ".py",
   "mimetype": "text/x-python",
   "name": "python",
   "nbconvert_exporter": "python",
   "pygments_lexer": "ipython3",
   "version": "3.6.4"
  }
 },
 "nbformat": 4,
 "nbformat_minor": 2
}
