{
 "cells": [
  {
   "cell_type": "markdown",
   "metadata": {},
   "source": [
    "# Serie 02 Aufgaben\n",
    "\n",
    "## Aufgabe 2.1"
   ]
  },
  {
   "cell_type": "markdown",
   "metadata": {},
   "source": [
    "<b>a) Ändern Sie drei Noten im Datensatz so ab, dass der Median gleich bleibt, aber\n",
    "der Mittelwert sich stark ändert.</b>"
   ]
  },
  {
   "cell_type": "code",
   "execution_count": 9,
   "metadata": {},
   "outputs": [
    {
     "data": {
      "text/plain": [
       "4.65"
      ]
     },
     "execution_count": 9,
     "metadata": {},
     "output_type": "execute_result"
    }
   ],
   "source": [
    "import numpy as np\n",
    "import pandas as pd\n",
    "from pandas import Series\n",
    "\n",
    "grades = Series([4.2, 2.3, 5.6, 4.5, 4.8, 3.9, 5.9, 2.4, 5.9, 6, 4, 3.7, 5, 5.2, 4.5, 3.6, 5, 6, 2.8, 3.3, 5.5, 4.2, 4.9, 5.1])\n",
    "grades.median()\n"
   ]
  },
  {
   "cell_type": "code",
   "execution_count": 10,
   "metadata": {},
   "outputs": [
    {
     "name": "stdout",
     "output_type": "stream",
     "text": [
      "4.5125\n"
     ]
    },
    {
     "data": {
      "text/plain": [
       "1     2.3\n",
       "7     2.4\n",
       "18    2.8\n",
       "19    3.3\n",
       "15    3.6\n",
       "11    3.7\n",
       "5     3.9\n",
       "10    4.0\n",
       "21    4.2\n",
       "0     4.2\n",
       "14    4.5\n",
       "3     4.5\n",
       "4     4.8\n",
       "22    4.9\n",
       "12    5.0\n",
       "16    5.0\n",
       "23    5.1\n",
       "13    5.2\n",
       "20    5.5\n",
       "2     5.6\n",
       "8     5.9\n",
       "6     5.9\n",
       "17    6.0\n",
       "9     6.0\n",
       "dtype: float64"
      ]
     },
     "execution_count": 10,
     "metadata": {},
     "output_type": "execute_result"
    }
   ],
   "source": [
    "print(grades.mean())\n",
    "grades2 = grades.sort_values()\n",
    "grades2"
   ]
  },
  {
   "cell_type": "code",
   "execution_count": 11,
   "metadata": {},
   "outputs": [
    {
     "data": {
      "text/plain": [
       "1     2.3\n",
       "2     2.4\n",
       "3     2.8\n",
       "4     3.3\n",
       "5     3.6\n",
       "6     3.7\n",
       "7     3.9\n",
       "8     4.0\n",
       "9     4.2\n",
       "10    4.2\n",
       "11    4.5\n",
       "12    4.5\n",
       "13    4.8\n",
       "14    4.9\n",
       "15    5.0\n",
       "16    5.0\n",
       "17    5.1\n",
       "18    5.2\n",
       "19    5.5\n",
       "20    5.6\n",
       "21    5.9\n",
       "22    5.9\n",
       "23    6.0\n",
       "24    6.0\n",
       "dtype: float64"
      ]
     },
     "execution_count": 11,
     "metadata": {},
     "output_type": "execute_result"
    }
   ],
   "source": [
    "grades2.size\n",
    "grades2.index = np.arange(1, grades2.size+1)\n",
    "grades2"
   ]
  },
  {
   "cell_type": "markdown",
   "metadata": {},
   "source": [
    "4.5 und 4.8 wird verwendet, um den Median zu berechnen (also der 12. und 13. grösste Wert)."
   ]
  },
  {
   "cell_type": "code",
   "execution_count": 12,
   "metadata": {},
   "outputs": [
    {
     "data": {
      "text/plain": [
       "1     2.3\n",
       "2     2.4\n",
       "3     2.8\n",
       "4     3.3\n",
       "5     3.6\n",
       "6     3.7\n",
       "7     3.9\n",
       "8     4.0\n",
       "9     1.0\n",
       "10    1.0\n",
       "11    1.0\n",
       "12    4.5\n",
       "dtype: float64"
      ]
     },
     "execution_count": 12,
     "metadata": {},
     "output_type": "execute_result"
    }
   ],
   "source": [
    "grades2[11], grades2[10], grades2[9] = 1, 1, 1\n",
    "grades2.index = np.arange(1, grades2.size+1)\n",
    "grades2.head(n=12)"
   ]
  },
  {
   "cell_type": "code",
   "execution_count": 13,
   "metadata": {},
   "outputs": [
    {
     "name": "stdout",
     "output_type": "stream",
     "text": [
      "4.65\n",
      "4.1000000000000005\n"
     ]
    }
   ],
   "source": [
    "print(grades2.median())\n",
    "print(grades2.mean())"
   ]
  },
  {
   "cell_type": "markdown",
   "metadata": {},
   "source": [
    "<b>b) Erstellen Sie zu den beiden Datensätzen je ein Histogramm und einen Boxplot.\n",
    "Verwenden Sie plt.subplot(...) aus Aufgabe 1.</b>"
   ]
  },
  {
   "cell_type": "code",
   "execution_count": 14,
   "metadata": {},
   "outputs": [],
   "source": [
    "from pandas import Series, DataFrame\n",
    "import pandas as pd\n",
    "import matplotlib.pyplot as plt\n",
    "import numpy as np"
   ]
  },
  {
   "cell_type": "code",
   "execution_count": 15,
   "metadata": {},
   "outputs": [
    {
     "data": {
      "image/png": "[encoded data removed]",
      "text/plain": [
       "<matplotlib.figure.Figure at 0x108921e10>"
      ]
     },
     "metadata": {},
     "output_type": "display_data"
    }
   ],
   "source": [
    "plt.subplot(121)\n",
    "grades.plot(kind=\"hist\", edgecolor=\"black\")\n",
    "\n",
    "plt.subplot(122)\n",
    "grades.plot(kind=\"box\", title='Grades')\n",
    "\n",
    "plt.show()"
   ]
  },
  {
   "cell_type": "code",
   "execution_count": 16,
   "metadata": {},
   "outputs": [
    {
     "data": {
      "image/png": "[encoded data removed]",
      "text/plain": [
       "<matplotlib.figure.Figure at 0x1081876d8>"
      ]
     },
     "metadata": {},
     "output_type": "display_data"
    }
   ],
   "source": [
    "plt.subplot(121)\n",
    "grades2.plot(kind=\"hist\", edgecolor=\"black\")\n",
    "\n",
    "plt.subplot(122)\n",
    "grades.plot(kind=\"box\", title='Grades 2')\n",
    "\n",
    "plt.show()"
   ]
  },
  {
   "cell_type": "markdown",
   "metadata": {},
   "source": [
    "# Aufgabe 2.2\n",
    "\n",
    "*21 Labors bestimmten den Kupfergehalt von 9 verschiedenen Klärschlammproben.\n",
    "Die Daten stehen in der auf Ilias abgelegten Datei klaerschlamm.dat zur Verfügung.\n",
    "Die erste Spalte bezeichnet das Labor, die restlichen 9 Spalten sind die verschiedenen\n",
    "Klärschlammproben.*\n",
    "\n",
    "**a) Erstellen Sie für jede Probe einen Boxplot, und berechnen Sie jeweils das arithmetische\n",
    "Mittel und den Median. Bei welchen Proben gibt es Ausreisser, und\n",
    "wo unterscheiden sich arithmetischesMittel undMedianwesentlich? Beiwelchen\n",
    "der 9 Proben ist es plausibel, dass die wahre Konzentration unter 400 mg/kg\n",
    "liegt?**"
   ]
  },
  {
   "cell_type": "code",
   "execution_count": 35,
   "metadata": {},
   "outputs": [],
   "source": [
    "from pandas import Series, DataFrame\n",
    "import pandas as pd\n",
    "import matplotlib.pyplot as plt\n",
    "import numpy as np\n",
    "\n",
    "schlamm = pd.read_table(r\"klaerschlamm.dat\", sep=\" \", index_col=0)"
   ]
  },
  {
   "cell_type": "code",
   "execution_count": 36,
   "metadata": {},
   "outputs": [
    {
     "data": {
      "text/html": [
       "<div>\n",
       "<style scoped>\n",
       "    .dataframe tbody tr th:only-of-type {\n",
       "        vertical-align: middle;\n",
       "    }\n",
       "\n",
       "    .dataframe tbody tr th {\n",
       "        vertical-align: top;\n",
       "    }\n",
       "\n",
       "    .dataframe thead th {\n",
       "        text-align: right;\n",
       "    }\n",
       "</style>\n",
       "<table border=\"1\" class=\"dataframe\">\n",
       "  <thead>\n",
       "    <tr style=\"text-align: right;\">\n",
       "      <th></th>\n",
       "      <th>Pr1</th>\n",
       "      <th>Pr2</th>\n",
       "      <th>Pr3</th>\n",
       "      <th>Pr4</th>\n",
       "      <th>Pr5</th>\n",
       "      <th>Pr6</th>\n",
       "      <th>Pr7</th>\n",
       "      <th>Pr8</th>\n",
       "      <th>Pr9</th>\n",
       "    </tr>\n",
       "  </thead>\n",
       "  <tbody>\n",
       "    <tr>\n",
       "      <th>1</th>\n",
       "      <td>233</td>\n",
       "      <td>491</td>\n",
       "      <td>428</td>\n",
       "      <td>376</td>\n",
       "      <td>200</td>\n",
       "      <td>364</td>\n",
       "      <td>474</td>\n",
       "      <td>444</td>\n",
       "      <td>351</td>\n",
       "    </tr>\n",
       "    <tr>\n",
       "      <th>2</th>\n",
       "      <td>253</td>\n",
       "      <td>530</td>\n",
       "      <td>453</td>\n",
       "      <td>389</td>\n",
       "      <td>191</td>\n",
       "      <td>402</td>\n",
       "      <td>495</td>\n",
       "      <td>453</td>\n",
       "      <td>371</td>\n",
       "    </tr>\n",
       "    <tr>\n",
       "      <th>3</th>\n",
       "      <td>240</td>\n",
       "      <td>530</td>\n",
       "      <td>460</td>\n",
       "      <td>390</td>\n",
       "      <td>200</td>\n",
       "      <td>390</td>\n",
       "      <td>480</td>\n",
       "      <td>440</td>\n",
       "      <td>350</td>\n",
       "    </tr>\n",
       "    <tr>\n",
       "      <th>4</th>\n",
       "      <td>243</td>\n",
       "      <td>518</td>\n",
       "      <td>456</td>\n",
       "      <td>389</td>\n",
       "      <td>186</td>\n",
       "      <td>385</td>\n",
       "      <td>483</td>\n",
       "      <td>459</td>\n",
       "      <td>369</td>\n",
       "    </tr>\n",
       "    <tr>\n",
       "      <th>5</th>\n",
       "      <td>244</td>\n",
       "      <td>521</td>\n",
       "      <td>446</td>\n",
       "      <td>392</td>\n",
       "      <td>193</td>\n",
       "      <td>385</td>\n",
       "      <td>481</td>\n",
       "      <td>451</td>\n",
       "      <td>357</td>\n",
       "    </tr>\n",
       "  </tbody>\n",
       "</table>\n",
       "</div>"
      ],
      "text/plain": [
       "   Pr1  Pr2  Pr3  Pr4  Pr5  Pr6  Pr7  Pr8  Pr9\n",
       "1  233  491  428  376  200  364  474  444  351\n",
       "2  253  530  453  389  191  402  495  453  371\n",
       "3  240  530  460  390  200  390  480  440  350\n",
       "4  243  518  456  389  186  385  483  459  369\n",
       "5  244  521  446  392  193  385  481  451  357"
      ]
     },
     "execution_count": 36,
     "metadata": {},
     "output_type": "execute_result"
    }
   ],
   "source": [
    "schlamm = schlamm.drop(\"Labor\",1)\n",
    "schlamm.head()"
   ]
  },
  {
   "cell_type": "code",
   "execution_count": 37,
   "metadata": {},
   "outputs": [
    {
     "data": {
      "text/plain": [
       "<matplotlib.axes._subplots.AxesSubplot at 0x10daf7a90>"
      ]
     },
     "execution_count": 37,
     "metadata": {},
     "output_type": "execute_result"
    },
    {
     "data": {
      "image/png": "[encoded data removed]",
      "text/plain": [
       "<matplotlib.figure.Figure at 0x1082385c0>"
      ]
     },
     "metadata": {},
     "output_type": "display_data"
    }
   ],
   "source": [
    "schlamm.plot(kind=\"box\")"
   ]
  },
  {
   "cell_type": "code",
   "execution_count": 38,
   "metadata": {
    "scrolled": true
   },
   "outputs": [
    {
     "data": {
      "text/html": [
       "<div>\n",
       "<style scoped>\n",
       "    .dataframe tbody tr th:only-of-type {\n",
       "        vertical-align: middle;\n",
       "    }\n",
       "\n",
       "    .dataframe tbody tr th {\n",
       "        vertical-align: top;\n",
       "    }\n",
       "\n",
       "    .dataframe thead th {\n",
       "        text-align: right;\n",
       "    }\n",
       "</style>\n",
       "<table border=\"1\" class=\"dataframe\">\n",
       "  <thead>\n",
       "    <tr style=\"text-align: right;\">\n",
       "      <th></th>\n",
       "      <th>Pr1</th>\n",
       "      <th>Pr2</th>\n",
       "      <th>Pr3</th>\n",
       "      <th>Pr4</th>\n",
       "      <th>Pr5</th>\n",
       "      <th>Pr6</th>\n",
       "      <th>Pr7</th>\n",
       "      <th>Pr8</th>\n",
       "      <th>Pr9</th>\n",
       "    </tr>\n",
       "  </thead>\n",
       "  <tbody>\n",
       "    <tr>\n",
       "      <th>count</th>\n",
       "      <td>21.000000</td>\n",
       "      <td>21.000000</td>\n",
       "      <td>21.000000</td>\n",
       "      <td>21.000000</td>\n",
       "      <td>21.000000</td>\n",
       "      <td>21.000000</td>\n",
       "      <td>21.000000</td>\n",
       "      <td>21.000000</td>\n",
       "      <td>21.000000</td>\n",
       "    </tr>\n",
       "    <tr>\n",
       "      <th>mean</th>\n",
       "      <td>246.142857</td>\n",
       "      <td>511.428571</td>\n",
       "      <td>443.428571</td>\n",
       "      <td>389.238095</td>\n",
       "      <td>188.238095</td>\n",
       "      <td>394.857143</td>\n",
       "      <td>465.523810</td>\n",
       "      <td>449.952381</td>\n",
       "      <td>388.904762</td>\n",
       "    </tr>\n",
       "    <tr>\n",
       "      <th>std</th>\n",
       "      <td>18.210672</td>\n",
       "      <td>76.962050</td>\n",
       "      <td>34.156363</td>\n",
       "      <td>56.642656</td>\n",
       "      <td>16.866845</td>\n",
       "      <td>56.642110</td>\n",
       "      <td>91.361162</td>\n",
       "      <td>57.069673</td>\n",
       "      <td>104.159927</td>\n",
       "    </tr>\n",
       "    <tr>\n",
       "      <th>min</th>\n",
       "      <td>216.000000</td>\n",
       "      <td>268.000000</td>\n",
       "      <td>378.000000</td>\n",
       "      <td>223.000000</td>\n",
       "      <td>157.000000</td>\n",
       "      <td>337.000000</td>\n",
       "      <td>110.000000</td>\n",
       "      <td>323.000000</td>\n",
       "      <td>319.000000</td>\n",
       "    </tr>\n",
       "    <tr>\n",
       "      <th>25%</th>\n",
       "      <td>239.000000</td>\n",
       "      <td>491.000000</td>\n",
       "      <td>422.000000</td>\n",
       "      <td>373.000000</td>\n",
       "      <td>178.000000</td>\n",
       "      <td>366.000000</td>\n",
       "      <td>456.000000</td>\n",
       "      <td>423.000000</td>\n",
       "      <td>350.000000</td>\n",
       "    </tr>\n",
       "    <tr>\n",
       "      <th>50%</th>\n",
       "      <td>244.000000</td>\n",
       "      <td>521.000000</td>\n",
       "      <td>446.000000</td>\n",
       "      <td>390.000000</td>\n",
       "      <td>188.000000</td>\n",
       "      <td>385.000000</td>\n",
       "      <td>481.000000</td>\n",
       "      <td>451.000000</td>\n",
       "      <td>369.000000</td>\n",
       "    </tr>\n",
       "    <tr>\n",
       "      <th>75%</th>\n",
       "      <td>257.000000</td>\n",
       "      <td>530.000000</td>\n",
       "      <td>459.000000</td>\n",
       "      <td>405.000000</td>\n",
       "      <td>200.000000</td>\n",
       "      <td>393.000000</td>\n",
       "      <td>493.000000</td>\n",
       "      <td>467.000000</td>\n",
       "      <td>382.000000</td>\n",
       "    </tr>\n",
       "    <tr>\n",
       "      <th>max</th>\n",
       "      <td>296.000000</td>\n",
       "      <td>732.000000</td>\n",
       "      <td>548.000000</td>\n",
       "      <td>562.000000</td>\n",
       "      <td>221.000000</td>\n",
       "      <td>557.000000</td>\n",
       "      <td>642.000000</td>\n",
       "      <td>639.000000</td>\n",
       "      <td>819.000000</td>\n",
       "    </tr>\n",
       "  </tbody>\n",
       "</table>\n",
       "</div>"
      ],
      "text/plain": [
       "              Pr1         Pr2         Pr3         Pr4         Pr5         Pr6  \\\n",
       "count   21.000000   21.000000   21.000000   21.000000   21.000000   21.000000   \n",
       "mean   246.142857  511.428571  443.428571  389.238095  188.238095  394.857143   \n",
       "std     18.210672   76.962050   34.156363   56.642656   16.866845   56.642110   \n",
       "min    216.000000  268.000000  378.000000  223.000000  157.000000  337.000000   \n",
       "25%    239.000000  491.000000  422.000000  373.000000  178.000000  366.000000   \n",
       "50%    244.000000  521.000000  446.000000  390.000000  188.000000  385.000000   \n",
       "75%    257.000000  530.000000  459.000000  405.000000  200.000000  393.000000   \n",
       "max    296.000000  732.000000  548.000000  562.000000  221.000000  557.000000   \n",
       "\n",
       "              Pr7         Pr8         Pr9  \n",
       "count   21.000000   21.000000   21.000000  \n",
       "mean   465.523810  449.952381  388.904762  \n",
       "std     91.361162   57.069673  104.159927  \n",
       "min    110.000000  323.000000  319.000000  \n",
       "25%    456.000000  423.000000  350.000000  \n",
       "50%    481.000000  451.000000  369.000000  \n",
       "75%    493.000000  467.000000  382.000000  \n",
       "max    642.000000  639.000000  819.000000  "
      ]
     },
     "execution_count": 38,
     "metadata": {},
     "output_type": "execute_result"
    }
   ],
   "source": [
    "schlamm.describe()"
   ]
  },
  {
   "cell_type": "markdown",
   "metadata": {},
   "source": [
    "In der describe-Tabelle ist <i>mean</i> das arithemetische Mittel und <i>50%</i> das 50%-Quartil, somit der Median.\n",
    "\n",
    "In der Tabelle ist klar ersichtlich, dass die Proben 1, 4, 5, 6 und 9 klar unter 400mg/kg liegen. Zu prüfen bleiben nun noch 2, 3, 7 und 8.\n",
    "\n",
    "* Bei 2 liegen die meisten Proben wirklich höcher als 400mg/kg.\n",
    "* Bei 3 liegt ebenfalls der Grossteil der Proben über 400, auch wenn wenige Proben unter 4 liegen.\n",
    "* Bei 7 liegt der Grossteil der Proben ebenfalls über 400, mit Ausnahme eines Ausreissers.\n",
    "* Bei 8 dasselbe, die meisten Proben liegen über 400, mit Ausnahme eines Ausreissers."
   ]
  },
  {
   "cell_type": "markdown",
   "metadata": {},
   "source": [
    "**b) Erstellen Sie für jedes Labor einen Boxplot der Messfehler. Unter dem Messfehler\n",
    "eines Labors bei einer Probe verstehen wir den gemessenen Wert minus\n",
    "den Median über alle Labors. Welche der 21 Labors haben systematische\n",
    "Fehler in ihrem Analyseverfahren? Welche haben grosse Zufallsfehler, und bei\n",
    "welchen Labors ist die Qualität der Analysen besonders gut?**"
   ]
  },
  {
   "cell_type": "code",
   "execution_count": 39,
   "metadata": {},
   "outputs": [],
   "source": [
    "schlamm_centered = schlamm - schlamm.median()"
   ]
  },
  {
   "cell_type": "code",
   "execution_count": 40,
   "metadata": {},
   "outputs": [
    {
     "data": {
      "text/plain": [
       "<matplotlib.axes._subplots.AxesSubplot at 0x1123eceb8>"
      ]
     },
     "execution_count": 40,
     "metadata": {},
     "output_type": "execute_result"
    },
    {
     "data": {
      "image/png": "[encoded data removed]",
      "text/plain": [
       "<matplotlib.figure.Figure at 0x1123eb1d0>"
      ]
     },
     "metadata": {},
     "output_type": "display_data"
    }
   ],
   "source": [
    "schlamm_centered.T.plot(kind=\"box\")"
   ]
  },
  {
   "cell_type": "markdown",
   "metadata": {},
   "source": [
    "Labore 15 und 21 haben grosse Standardabweichungen sowie systematische Fehler.\n",
    "\n",
    "Labore 6 und 12 haben markante Ausreisser zu verzeichnen. \n",
    "\n",
    "Labore 1, 7, 12, 13, 14, 17, 18, 20 und 21 geben systematisch zu kleine Messwerte an (unter dem Mittelwert).\n",
    "\n",
    "Labore 6, 8, 10, 15 geben dagegen zu grosse Werte an.\n",
    "\n",
    "Labore 2, 3, 4, 5 und 19 geben einigermassen zuverlässige Ergebnisse an."
   ]
  },
  {
   "cell_type": "markdown",
   "metadata": {},
   "source": [
    "## Aufgabe 2.3\n",
    "\n",
    "**Für drei Stichproben vom Umfang n = 100 wurden je ein Boxplot und die empirische\n",
    "Verteilungsfunktion gezeichnet. Ordnen Sie die drei Boxplots den entsprechenden\n",
    "empirischen Verteilungsfunktionen zu:**"
   ]
  },
  {
   "cell_type": "markdown",
   "metadata": {},
   "source": [
    "<img src=\"stat_2.3_image.png\" alt=\"Bild\" width=\"500\"/>"
   ]
  },
  {
   "cell_type": "markdown",
   "metadata": {},
   "source": [
    "**Zuordnung:** 1b, 2c, 3a"
   ]
  },
  {
   "cell_type": "markdown",
   "metadata": {},
   "source": [
    "## Aufgabe 2.4\n",
    "\n",
    "Edwin Hubble untersuchte seit 1920 am Mount Wilson Observatory die Eigenschaften\n",
    "von Galaxien ausserhalb der Milchstrasse. Mit Überraschung bemerkte er einen Zusammenhang\n",
    "zwischen der Distanz einer Galaxie zur Erde und dessen Geschwindigkeit,\n",
    "sich von der Erde fortzubewegen (Fluchtgeschwindigkeit). Hubbles ursprüngliche\n",
    "Daten von 24 galaktischen Nebeln ( E. Hubble, \"‘Proceedings of the National\n",
    "Academy of Science 15 (1929): 168-73\"’) sind in Tabelle 1 gezeigt. Die Fluchtgeschwindigkeit\n",
    "ist in Kilometer pro Sekunde angegeben und konnte aufgrund der Rotverschiebung\n",
    "im Lichtspektrum der Galaxien mit grosser Genauigkeit bestimmt werden.\n",
    "Die Distanz einer Galaxie zur Erde wird in Megaparsec (Mpc) gemessen: ein\n",
    "Megaparsec entspricht etwa 3.09 × $10^{10}$ m. Die Distanzen werden durch Vergleich\n",
    "der mittleren Luminosität von Galaxien mit der Luminosität von bestimmten bekannten\n",
    "Sternen bestimmt, wobei diese Methode relativ ungenau ist."
   ]
  },
  {
   "cell_type": "markdown",
   "metadata": {},
   "source": [
    "**a) Erstellen Sie von den Daten in Tabelle 1 ein Streudiagramm, in dem Sie die\n",
    "Distanz versus Fluchtgeschwindigkeit aufzeichnen.**"
   ]
  },
  {
   "cell_type": "code",
   "execution_count": 67,
   "metadata": {},
   "outputs": [],
   "source": [
    "hubble = pd.read_table(r\"hubble.txt\", sep=\" \")"
   ]
  },
  {
   "cell_type": "code",
   "execution_count": 57,
   "metadata": {
    "scrolled": true
   },
   "outputs": [
    {
     "data": {
      "text/html": [
       "<div>\n",
       "<style scoped>\n",
       "    .dataframe tbody tr th:only-of-type {\n",
       "        vertical-align: middle;\n",
       "    }\n",
       "\n",
       "    .dataframe tbody tr th {\n",
       "        vertical-align: top;\n",
       "    }\n",
       "\n",
       "    .dataframe thead th {\n",
       "        text-align: right;\n",
       "    }\n",
       "</style>\n",
       "<table border=\"1\" class=\"dataframe\">\n",
       "  <thead>\n",
       "    <tr style=\"text-align: right;\">\n",
       "      <th></th>\n",
       "      <th>distance</th>\n",
       "      <th>recession.velocity</th>\n",
       "    </tr>\n",
       "  </thead>\n",
       "  <tbody>\n",
       "    <tr>\n",
       "      <th>0</th>\n",
       "      <td>0.032</td>\n",
       "      <td>170</td>\n",
       "    </tr>\n",
       "    <tr>\n",
       "      <th>1</th>\n",
       "      <td>0.034</td>\n",
       "      <td>290</td>\n",
       "    </tr>\n",
       "    <tr>\n",
       "      <th>2</th>\n",
       "      <td>0.214</td>\n",
       "      <td>-130</td>\n",
       "    </tr>\n",
       "    <tr>\n",
       "      <th>3</th>\n",
       "      <td>0.263</td>\n",
       "      <td>-70</td>\n",
       "    </tr>\n",
       "    <tr>\n",
       "      <th>4</th>\n",
       "      <td>0.275</td>\n",
       "      <td>-185</td>\n",
       "    </tr>\n",
       "    <tr>\n",
       "      <th>5</th>\n",
       "      <td>0.275</td>\n",
       "      <td>-220</td>\n",
       "    </tr>\n",
       "    <tr>\n",
       "      <th>6</th>\n",
       "      <td>0.450</td>\n",
       "      <td>200</td>\n",
       "    </tr>\n",
       "    <tr>\n",
       "      <th>7</th>\n",
       "      <td>0.500</td>\n",
       "      <td>290</td>\n",
       "    </tr>\n",
       "    <tr>\n",
       "      <th>8</th>\n",
       "      <td>0.500</td>\n",
       "      <td>270</td>\n",
       "    </tr>\n",
       "    <tr>\n",
       "      <th>9</th>\n",
       "      <td>0.630</td>\n",
       "      <td>200</td>\n",
       "    </tr>\n",
       "    <tr>\n",
       "      <th>10</th>\n",
       "      <td>0.800</td>\n",
       "      <td>300</td>\n",
       "    </tr>\n",
       "    <tr>\n",
       "      <th>11</th>\n",
       "      <td>0.900</td>\n",
       "      <td>-30</td>\n",
       "    </tr>\n",
       "    <tr>\n",
       "      <th>12</th>\n",
       "      <td>0.900</td>\n",
       "      <td>650</td>\n",
       "    </tr>\n",
       "    <tr>\n",
       "      <th>13</th>\n",
       "      <td>0.900</td>\n",
       "      <td>150</td>\n",
       "    </tr>\n",
       "    <tr>\n",
       "      <th>14</th>\n",
       "      <td>0.900</td>\n",
       "      <td>500</td>\n",
       "    </tr>\n",
       "    <tr>\n",
       "      <th>15</th>\n",
       "      <td>1.000</td>\n",
       "      <td>920</td>\n",
       "    </tr>\n",
       "    <tr>\n",
       "      <th>16</th>\n",
       "      <td>1.100</td>\n",
       "      <td>450</td>\n",
       "    </tr>\n",
       "    <tr>\n",
       "      <th>17</th>\n",
       "      <td>1.100</td>\n",
       "      <td>500</td>\n",
       "    </tr>\n",
       "    <tr>\n",
       "      <th>18</th>\n",
       "      <td>1.400</td>\n",
       "      <td>500</td>\n",
       "    </tr>\n",
       "    <tr>\n",
       "      <th>19</th>\n",
       "      <td>1.700</td>\n",
       "      <td>960</td>\n",
       "    </tr>\n",
       "    <tr>\n",
       "      <th>20</th>\n",
       "      <td>2.000</td>\n",
       "      <td>500</td>\n",
       "    </tr>\n",
       "    <tr>\n",
       "      <th>21</th>\n",
       "      <td>2.000</td>\n",
       "      <td>850</td>\n",
       "    </tr>\n",
       "    <tr>\n",
       "      <th>22</th>\n",
       "      <td>2.000</td>\n",
       "      <td>800</td>\n",
       "    </tr>\n",
       "    <tr>\n",
       "      <th>23</th>\n",
       "      <td>2.000</td>\n",
       "      <td>1090</td>\n",
       "    </tr>\n",
       "  </tbody>\n",
       "</table>\n",
       "</div>"
      ],
      "text/plain": [
       "    distance  recession.velocity\n",
       "0      0.032                 170\n",
       "1      0.034                 290\n",
       "2      0.214                -130\n",
       "3      0.263                 -70\n",
       "4      0.275                -185\n",
       "5      0.275                -220\n",
       "6      0.450                 200\n",
       "7      0.500                 290\n",
       "8      0.500                 270\n",
       "9      0.630                 200\n",
       "10     0.800                 300\n",
       "11     0.900                 -30\n",
       "12     0.900                 650\n",
       "13     0.900                 150\n",
       "14     0.900                 500\n",
       "15     1.000                 920\n",
       "16     1.100                 450\n",
       "17     1.100                 500\n",
       "18     1.400                 500\n",
       "19     1.700                 960\n",
       "20     2.000                 500\n",
       "21     2.000                 850\n",
       "22     2.000                 800\n",
       "23     2.000                1090"
      ]
     },
     "execution_count": 57,
     "metadata": {},
     "output_type": "execute_result"
    }
   ],
   "source": [
    "hubble"
   ]
  },
  {
   "cell_type": "code",
   "execution_count": 68,
   "metadata": {
    "scrolled": true
   },
   "outputs": [
    {
     "data": {
      "text/plain": [
       "<matplotlib.axes._subplots.AxesSubplot at 0x11337b898>"
      ]
     },
     "execution_count": 68,
     "metadata": {},
     "output_type": "execute_result"
    },
    {
     "data": {
      "image/png": "[encoded data removed]",
      "text/plain": [
       "<matplotlib.figure.Figure at 0x112fdc6d8>"
      ]
     },
     "metadata": {},
     "output_type": "display_data"
    }
   ],
   "source": [
    "hubble.plot(kind=\"scatter\", x='distance', y='recession.velocity')"
   ]
  },
  {
   "cell_type": "markdown",
   "metadata": {},
   "source": [
    "<b>b) Bestimmen Sie mit dem Befehl ***np.polyfit(...)*** (siehe Skript) die Koeffizienten\n",
    "$\\beta_0$ und $\\beta_1$ für die Regressionsgerade\n",
    "\n",
    "$y = \\beta_0 + \\beta_1 \\cdot x$\n",
    "\n",
    "wobei $y$ die Distanz und $x$ die Fluchtgeschwindigkeit bezeichnet.</b>"
   ]
  },
  {
   "cell_type": "code",
   "execution_count": 76,
   "metadata": {},
   "outputs": [
    {
     "name": "stdout",
     "output_type": "stream",
     "text": [
      "Beta 0:  0.39909821584359284  Beta 1:  0.0013729361049417948\n"
     ]
    }
   ],
   "source": [
    "import numpy as np\n",
    "import matplotlib.pyplot as plt\n",
    "beta1, beta0 = np.polyfit(y=hubble[\"distance\"], x=hubble[\"recession.velocity\"], deg=1)\n",
    "print(\"Beta 0: \",beta0,\" Beta 1: \",beta1)"
   ]
  },
  {
   "cell_type": "code",
   "execution_count": 90,
   "metadata": {
    "scrolled": false
   },
   "outputs": [
    {
     "data": {
      "image/png": "[encoded data removed]",
      "text/plain": [
       "<matplotlib.figure.Figure at 0x113dd4240>"
      ]
     },
     "metadata": {},
     "output_type": "display_data"
    }
   ],
   "source": [
    "hubble.plot(kind=\"scatter\", x='distance', y='recession.velocity')\n",
    "b, a = np.polyfit(hubble[\"distance\"], hubble[\"recession.velocity\"], deg=1)\n",
    "x = np.linspace(hubble[\"recession.velocity\"].min(), hubble[\"recession.velocity\"].max())/400\n",
    "plt.plot(x, a+b*x, color=\"orange\")\n",
    "plt.show()"
   ]
  },
  {
   "cell_type": "markdown",
   "metadata": {},
   "source": [
    "**c) Bestimmen Sie noch den Korrelationskoeffizienten und interpretieren Sie diesen.**"
   ]
  },
  {
   "cell_type": "code",
   "execution_count": 91,
   "metadata": {
    "scrolled": true
   },
   "outputs": [
    {
     "data": {
      "text/html": [
       "<div>\n",
       "<style scoped>\n",
       "    .dataframe tbody tr th:only-of-type {\n",
       "        vertical-align: middle;\n",
       "    }\n",
       "\n",
       "    .dataframe tbody tr th {\n",
       "        vertical-align: top;\n",
       "    }\n",
       "\n",
       "    .dataframe thead th {\n",
       "        text-align: right;\n",
       "    }\n",
       "</style>\n",
       "<table border=\"1\" class=\"dataframe\">\n",
       "  <thead>\n",
       "    <tr style=\"text-align: right;\">\n",
       "      <th></th>\n",
       "      <th>distance</th>\n",
       "      <th>recession.velocity</th>\n",
       "    </tr>\n",
       "  </thead>\n",
       "  <tbody>\n",
       "    <tr>\n",
       "      <th>distance</th>\n",
       "      <td>1.000000</td>\n",
       "      <td>0.789639</td>\n",
       "    </tr>\n",
       "    <tr>\n",
       "      <th>recession.velocity</th>\n",
       "      <td>0.789639</td>\n",
       "      <td>1.000000</td>\n",
       "    </tr>\n",
       "  </tbody>\n",
       "</table>\n",
       "</div>"
      ],
      "text/plain": [
       "                    distance  recession.velocity\n",
       "distance            1.000000            0.789639\n",
       "recession.velocity  0.789639            1.000000"
      ]
     },
     "execution_count": 91,
     "metadata": {},
     "output_type": "execute_result"
    }
   ],
   "source": [
    "hubble.corr()"
   ]
  },
  {
   "cell_type": "markdown",
   "metadata": {},
   "source": [
    "Der Korrelationskoeffizient der Regression ist 0.79, also ziemlich hoch und deutet auf eine hohen linearen Zusammenhang zwischen Distanz und Regression hin."
   ]
  },
  {
   "cell_type": "markdown",
   "metadata": {},
   "source": [
    "## Aufgabe 2.5\n",
    "\n",
    "Wir betrachten eine Studie, die 1979 in den Vereinigten Staaten durchgeführt wurde\n",
    "(National Longitudinal Study of Youth, NLSY79): von 2584Amerikanern imJahr 1981\n",
    "wurde der Intelligenzquotient (gemäss AFQT - armed forces qualifying test score)\n",
    "gemessen; 2006 wurden dieselben Personen nach ihrem jährlichen Einkommen im\n",
    "Jahr 2005 und der Anzahl Jahre Schulbildung befragt. Uns interessiert hier natürlich,\n",
    "ob ein hoher IQ oder eine lange Schulbildung zu einem höheren Einkommen\n",
    "führen. In der auf Ilias abgelegten Datei income.dat finden Sie den Datensatz mit\n",
    "dem Einkommen, der Anzahl Jahre abgeschlossener Schulbildung und den ermittelten\n",
    "Intelligenzquotienten von 2584 Amerikanern.\n",
    "\n",
    "**a) Lesen Sie den Datensatz income.dat ein und generieren Sie Streudiagramme, in welchen das Einkommen versus Anzahl\n",
    "Jahre Schulbildung und Einkommen versus Intelligenzquotient aufgetragen sind.**"
   ]
  },
  {
   "cell_type": "code",
   "execution_count": 92,
   "metadata": {},
   "outputs": [],
   "source": [
    "income = pd.read_table(r\"income.dat\", sep=\" \")"
   ]
  },
  {
   "cell_type": "code",
   "execution_count": 94,
   "metadata": {},
   "outputs": [
    {
     "data": {
      "text/html": [
       "<div>\n",
       "<style scoped>\n",
       "    .dataframe tbody tr th:only-of-type {\n",
       "        vertical-align: middle;\n",
       "    }\n",
       "\n",
       "    .dataframe tbody tr th {\n",
       "        vertical-align: top;\n",
       "    }\n",
       "\n",
       "    .dataframe thead th {\n",
       "        text-align: right;\n",
       "    }\n",
       "</style>\n",
       "<table border=\"1\" class=\"dataframe\">\n",
       "  <thead>\n",
       "    <tr style=\"text-align: right;\">\n",
       "      <th></th>\n",
       "      <th>AFQT</th>\n",
       "      <th>Educ</th>\n",
       "      <th>Income2005</th>\n",
       "    </tr>\n",
       "  </thead>\n",
       "  <tbody>\n",
       "    <tr>\n",
       "      <th>0</th>\n",
       "      <td>6.841</td>\n",
       "      <td>12</td>\n",
       "      <td>5500</td>\n",
       "    </tr>\n",
       "    <tr>\n",
       "      <th>1</th>\n",
       "      <td>99.393</td>\n",
       "      <td>16</td>\n",
       "      <td>65000</td>\n",
       "    </tr>\n",
       "    <tr>\n",
       "      <th>2</th>\n",
       "      <td>47.412</td>\n",
       "      <td>12</td>\n",
       "      <td>19000</td>\n",
       "    </tr>\n",
       "    <tr>\n",
       "      <th>3</th>\n",
       "      <td>44.022</td>\n",
       "      <td>14</td>\n",
       "      <td>36000</td>\n",
       "    </tr>\n",
       "    <tr>\n",
       "      <th>4</th>\n",
       "      <td>59.683</td>\n",
       "      <td>14</td>\n",
       "      <td>65000</td>\n",
       "    </tr>\n",
       "  </tbody>\n",
       "</table>\n",
       "</div>"
      ],
      "text/plain": [
       "     AFQT  Educ  Income2005\n",
       "0   6.841    12        5500\n",
       "1  99.393    16       65000\n",
       "2  47.412    12       19000\n",
       "3  44.022    14       36000\n",
       "4  59.683    14       65000"
      ]
     },
     "execution_count": 94,
     "metadata": {},
     "output_type": "execute_result"
    }
   ],
   "source": [
    "income.head()"
   ]
  },
  {
   "cell_type": "code",
   "execution_count": 104,
   "metadata": {},
   "outputs": [
    {
     "data": {
      "image/png": "[encoded data removed]",
      "text/plain": [
       "<matplotlib.figure.Figure at 0x11421a320>"
      ]
     },
     "metadata": {},
     "output_type": "display_data"
    }
   ],
   "source": [
    "income.plot(kind=\"scatter\", x=\"AFQT\", y=\"Income2005\")\n",
    "plt.xlabel(\"Intelligenzquotient\")\n",
    "plt.ylabel(\"Einkommen im Jahr 2005\")\n",
    "plt.show()"
   ]
  },
  {
   "cell_type": "code",
   "execution_count": 105,
   "metadata": {},
   "outputs": [
    {
     "data": {
      "image/png": "[encoded data removed]",
      "text/plain": [
       "<matplotlib.figure.Figure at 0x113fc5518>"
      ]
     },
     "metadata": {},
     "output_type": "display_data"
    }
   ],
   "source": [
    "income.plot(kind=\"scatter\", x=\"Educ\", y=\"Income2005\")\n",
    "plt.xlabel(\"Anzahl Jahre Schulbildung\")\n",
    "plt.ylabel(\"Einkommen im Jahr 2005\")\n",
    "plt.show()"
   ]
  },
  {
   "cell_type": "markdown",
   "metadata": {},
   "source": [
    "**b) Bestimmen Sie die Parameter $a$ und $b$ des linearen Modells $y = a + bx$ wobei $y$\n",
    "das Einkommen bezeichnet und $x$ die Anzahl Jahre Schulbildung. Zeichnen Sie\n",
    "die Regressionsgerade wie im Skript.**"
   ]
  },
  {
   "cell_type": "code",
   "execution_count": 113,
   "metadata": {},
   "outputs": [
    {
     "name": "stdout",
     "output_type": "stream",
     "text": [
      "Beta 0:  -40199.575352600026  Beta 1:  6451.4745559458\n"
     ]
    },
    {
     "data": {
      "image/png": "[encoded data removed]",
      "text/plain": [
       "<matplotlib.figure.Figure at 0x113ddee48>"
      ]
     },
     "metadata": {},
     "output_type": "display_data"
    }
   ],
   "source": [
    "b, a = np.polyfit(income[\"Educ\"], income[\"Income2005\"], deg=1)\n",
    "print(\"Beta 0: \", a, \" Beta 1: \", b)\n",
    "\n",
    "x = np.linspace(income[\"Educ\"].min(),income[\"Educ\"].max())\n",
    "income.plot(kind=\"scatter\", x=\"Educ\", y=\"Income2005\")\n",
    "\n",
    "x = np.linspace(income[\"Educ\"].min(),income[\"Educ\"].max())\n",
    "plt.plot(x, a+b*x, c=\"orange\")\n",
    "plt.xlabel(\"Anzahl Jahre Schulbildung\")\n",
    "plt.ylabel(\"Einkommen im Jahr 2005\")\n",
    "plt.show()"
   ]
  },
  {
   "cell_type": "markdown",
   "metadata": {},
   "source": [
    "Im Streudiagramm mit der Regressionsgerade ist ersichtlich, dass kein klarer Zusammenhang zwischen der Bildung und dem jährlichen Einkommen besteht."
   ]
  },
  {
   "cell_type": "markdown",
   "metadata": {},
   "source": [
    "**c) Berechnen Sie die Korrelation zwischen Einkommen und Anzahl Jahre Schulbildung.\n",
    "Wie angebracht ist ein Regressionsmodell für diesen Datensatz?**"
   ]
  },
  {
   "cell_type": "code",
   "execution_count": 112,
   "metadata": {},
   "outputs": [
    {
     "data": {
      "text/html": [
       "<div>\n",
       "<style scoped>\n",
       "    .dataframe tbody tr th:only-of-type {\n",
       "        vertical-align: middle;\n",
       "    }\n",
       "\n",
       "    .dataframe tbody tr th {\n",
       "        vertical-align: top;\n",
       "    }\n",
       "\n",
       "    .dataframe thead th {\n",
       "        text-align: right;\n",
       "    }\n",
       "</style>\n",
       "<table border=\"1\" class=\"dataframe\">\n",
       "  <thead>\n",
       "    <tr style=\"text-align: right;\">\n",
       "      <th></th>\n",
       "      <th>AFQT</th>\n",
       "      <th>Educ</th>\n",
       "      <th>Income2005</th>\n",
       "    </tr>\n",
       "  </thead>\n",
       "  <tbody>\n",
       "    <tr>\n",
       "      <th>AFQT</th>\n",
       "      <td>1.000000</td>\n",
       "      <td>0.595160</td>\n",
       "      <td>0.308153</td>\n",
       "    </tr>\n",
       "    <tr>\n",
       "      <th>Educ</th>\n",
       "      <td>0.595160</td>\n",
       "      <td>1.000000</td>\n",
       "      <td>0.345647</td>\n",
       "    </tr>\n",
       "    <tr>\n",
       "      <th>Income2005</th>\n",
       "      <td>0.308153</td>\n",
       "      <td>0.345647</td>\n",
       "      <td>1.000000</td>\n",
       "    </tr>\n",
       "  </tbody>\n",
       "</table>\n",
       "</div>"
      ],
      "text/plain": [
       "                AFQT      Educ  Income2005\n",
       "AFQT        1.000000  0.595160    0.308153\n",
       "Educ        0.595160  1.000000    0.345647\n",
       "Income2005  0.308153  0.345647    1.000000"
      ]
     },
     "execution_count": 112,
     "metadata": {},
     "output_type": "execute_result"
    }
   ],
   "source": [
    "income.corr()"
   ]
  },
  {
   "cell_type": "markdown",
   "metadata": {},
   "source": [
    "Der Korrelationseffizient des Einkommens ist mit 0.31 ziemlich tief, woraufhin ein Regressionsmpdell für diesen Datensatz nicht angebracht ist, da kaum ein linearer Zusammenhang besteht."
   ]
  },
  {
   "cell_type": "markdown",
   "metadata": {},
   "source": [
    "## Aufgabe 2.6\n",
    "\n",
    "**In dieser Aufgabe betrachten wir 4 Datensätze, die von Anscombe konstruiert wurden. In jedem der Datensätze gibt es eine Zielvariable y und eine erklärende Variable x.**"
   ]
  },
  {
   "cell_type": "code",
   "execution_count": 114,
   "metadata": {},
   "outputs": [],
   "source": [
    "import matplotlib.pyplot as plt\n",
    "import numpy as np\n",
    "x = np.array([10, 8, 13, 9, 11, 14, 6, 4, 12, 7, 5])\n",
    "y1 = np.array([8.04, 6.95, 7.58, 8.81, 8.33, 9.96, 7.24, 4.26, 10.84, 4.82, 5.68])\n",
    "y2 = np.array([9.14, 8.14, 8.74, 8.77, 9.26, 8.10, 6.13, 3.10, 9.13, 7.26, 4.74])\n",
    "y3 = np.array([7.46, 6.77, 12.74, 7.11, 7.81, 8.84, 6.08, 5.39, 8.15, 6.42, 5.73])\n",
    "x4 = np.array([8, 8, 8, 8, 8, 8, 8, 19, 8, 8, 8])\n",
    "y4 = np.array([6.58, 5.76, 7.71, 8.84, 8.47, 7.04, 5.25, 12.50, 5.56, 7.91, 6.89])"
   ]
  },
  {
   "cell_type": "markdown",
   "metadata": {},
   "source": [
    "**a) Stellen Sie jeden der 4 Datensätze als Streudiagramm dar, zeichnen Sie die Regressionsgerade\n",
    "ein und kommentieren Sie die Ergebnisse. Verwenden Siewieder\n",
    "plt.subplot(...) aus Aufgabe 1 und plt.scatter(...).**"
   ]
  },
  {
   "cell_type": "code",
   "execution_count": 115,
   "metadata": {},
   "outputs": [
    {
     "data": {
      "image/png": "[encoded data removed]",
      "text/plain": [
       "<matplotlib.figure.Figure at 0x112ef27b8>"
      ]
     },
     "metadata": {},
     "output_type": "display_data"
    }
   ],
   "source": [
    "plt.subplot(221)\n",
    "plt.scatter(x, y1)\n",
    "plt.subplot(222)\n",
    "plt.scatter(x, y2)\n",
    "plt.subplot(223)\n",
    "plt.scatter(x, y3)\n",
    "plt.subplot(224)\n",
    "plt.scatter(x4, y4)\n",
    "plt.show()"
   ]
  },
  {
   "cell_type": "markdown",
   "metadata": {},
   "source": [
    "Mangels aktueller Kenntnisse wurden die Streudiagramme inklusive Regressionsgerade den Lösungen von M. Birbaumer entnommen:\n",
    "\n",
    "<img src=\"stat_2.6_regr.png\" alt=\"Bild\" width=\"500\"/>"
   ]
  },
  {
   "cell_type": "markdown",
   "metadata": {},
   "source": [
    "Klar ersichtlich ist, dass beim ersten Datensatz eine lineare Regression anzunehmen ist.\n",
    "\n",
    "Beim zweiten Datensatz ist die Regression nicht linear.\n",
    "\n",
    "Beim dritten Datensatz scheint eine lineare Regression vorhanden, wird jedoch durch einen Aureisser ungenau.\n",
    "\n",
    "Beim vierten Datensatz ist die Regression auf einen Punkt fixiert."
   ]
  },
  {
   "cell_type": "markdown",
   "metadata": {},
   "source": [
    "**b) Vergleichen Sie die Schätzungen von $\\beta_0$ und $\\beta_1$, wobei $y = \\beta_0 + \\beta_1 \\cdot x$.\n",
    "Die Schätzungen für die Koeffizienten $\\beta_0$ und $\\beta_1$ des linearen Regressionsmodells\n",
    "kann man mit np.polyfit(...) berechnen und numerisch auswerten.**"
   ]
  },
  {
   "cell_type": "code",
   "execution_count": 128,
   "metadata": {},
   "outputs": [
    {
     "name": "stdout",
     "output_type": "stream",
     "text": [
      "Modelle:   Steigung &  Achsenabschnitt (beta1 & beta0)\n",
      "Modell 1:  [0.50009091 3.00009091]\n",
      "Modell 2:  [0.5        3.00090909]\n",
      "Modell 3:  [0.49972727 3.00245455]\n",
      "Modell 4:  [0.49990909 3.00172727]\n"
     ]
    }
   ],
   "source": [
    "print(\"Modelle:   Steigung &  Achsenabschnitt (beta1 & beta0)\")\n",
    "print(\"Modell 1: \", np.polyfit(x, y1, deg=1))\n",
    "print(\"Modell 2: \", np.polyfit(x, y2, deg=1))\n",
    "print(\"Modell 3: \", np.polyfit(x, y3, deg=1))\n",
    "print(\"Modell 4: \", np.polyfit(x4, y4, deg=1))"
   ]
  },
  {
   "cell_type": "markdown",
   "metadata": {},
   "source": [
    "Die Steigung und die Achsenabschnitte der vier Modelle scheinen sich kaum zu unterscheiden, obwohl  die Darstellung der verschiedenen Daten komplett unterschiedlich ist."
   ]
  },
  {
   "cell_type": "markdown",
   "metadata": {},
   "source": [
    "**c) Berechnen Sie die Korrelationskoeffizienten mit np.corrcoef($\\cdots$).**"
   ]
  },
  {
   "cell_type": "code",
   "execution_count": 132,
   "metadata": {},
   "outputs": [
    {
     "name": "stdout",
     "output_type": "stream",
     "text": [
      "Korrelationskoeffizienten Modell 1: \n",
      "[[1.         0.81642052]\n",
      " [0.81642052 1.        ]]\n",
      "\n",
      "Korrelationskoeffizienten Modell 2: \n",
      "[[1.         0.81623651]\n",
      " [0.81623651 1.        ]]\n",
      "\n",
      "Korrelationskoeffizienten Modell 3: \n",
      "[[1.         0.81628674]\n",
      " [0.81628674 1.        ]]\n",
      "\n",
      "Korrelationskoeffizienten Modell 4: \n",
      "[[1.         0.81652144]\n",
      " [0.81652144 1.        ]]\n"
     ]
    }
   ],
   "source": [
    "print(\"Korrelationskoeffizienten Modell 1: \")\n",
    "print(np.corrcoef(x, y1))\n",
    "print(\"\")\n",
    "print(\"Korrelationskoeffizienten Modell 2: \")\n",
    "print(np.corrcoef(x, y2))\n",
    "print(\"\")\n",
    "print(\"Korrelationskoeffizienten Modell 3: \")\n",
    "print(np.corrcoef(x, y3))\n",
    "print(\"\")\n",
    "print(\"Korrelationskoeffizienten Modell 4: \")\n",
    "print(np.corrcoef(x4, y4))"
   ]
  },
  {
   "cell_type": "code",
   "execution_count": null,
   "metadata": {},
   "outputs": [],
   "source": []
  }
 ],
 "metadata": {
  "kernelspec": {
   "display_name": "Python 3",
   "language": "python",
   "name": "python3"
  },
  "language_info": {
   "codemirror_mode": {
    "name": "ipython",
    "version": 3
   },
   "file_extension": ".py",
   "mimetype": "text/x-python",
   "name": "python",
   "nbconvert_exporter": "python",
   "pygments_lexer": "ipython3",
   "version": "3.6.4"
  }
 },
 "nbformat": 4,
 "nbformat_minor": 2
}
